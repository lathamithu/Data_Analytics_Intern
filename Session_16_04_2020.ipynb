{
  "nbformat": 4,
  "nbformat_minor": 0,
  "metadata": {
    "colab": {
      "name": "Session 16.04.2020.ipynb",
      "provenance": [],
      "collapsed_sections": [],
      "authorship_tag": "ABX9TyPo9pOwlYCuJA//E6El65OB",
      "include_colab_link": true
    },
    "kernelspec": {
      "name": "python3",
      "display_name": "Python 3"
    }
  },
  "cells": [
    {
      "cell_type": "markdown",
      "metadata": {
        "id": "view-in-github",
        "colab_type": "text"
      },
      "source": [
        "<a href=\"https://colab.research.google.com/github/lathamithu/Data_Analytics_Intern/blob/master/Session_16_04_2020.ipynb\" target=\"_parent\"><img src=\"https://colab.research.google.com/assets/colab-badge.svg\" alt=\"Open In Colab\"/></a>"
      ]
    },
    {
      "cell_type": "code",
      "metadata": {
        "id": "AhrvHdpIs9O3",
        "colab_type": "code",
        "colab": {}
      },
      "source": [
        "import pandas as pd\n",
        "import numpy as np\n",
        "import matplotlib.pyplot as plt\n",
        "import seaborn as sns\n",
        "sns.set()\n",
        "from sklearn.cluster import KMeans"
      ],
      "execution_count": 0,
      "outputs": []
    },
    {
      "cell_type": "code",
      "metadata": {
        "id": "BrCQhgsqtJvc",
        "colab_type": "code",
        "outputId": "75a71c9a-a282-4634-90b5-95a4ca872b9e",
        "colab": {
          "base_uri": "https://localhost:8080/",
          "height": 402
        }
      },
      "source": [
        "data = pd.read_csv('Task_Countries_exercise.csv')\n",
        "data"
      ],
      "execution_count": 0,
      "outputs": [
        {
          "output_type": "execute_result",
          "data": {
            "text/html": [
              "<div>\n",
              "<style scoped>\n",
              "    .dataframe tbody tr th:only-of-type {\n",
              "        vertical-align: middle;\n",
              "    }\n",
              "\n",
              "    .dataframe tbody tr th {\n",
              "        vertical-align: top;\n",
              "    }\n",
              "\n",
              "    .dataframe thead th {\n",
              "        text-align: right;\n",
              "    }\n",
              "</style>\n",
              "<table border=\"1\" class=\"dataframe\">\n",
              "  <thead>\n",
              "    <tr style=\"text-align: right;\">\n",
              "      <th></th>\n",
              "      <th>name</th>\n",
              "      <th>Longitude</th>\n",
              "      <th>Latitude</th>\n",
              "    </tr>\n",
              "  </thead>\n",
              "  <tbody>\n",
              "    <tr>\n",
              "      <th>0</th>\n",
              "      <td>Aruba</td>\n",
              "      <td>-69.982677</td>\n",
              "      <td>12.520880</td>\n",
              "    </tr>\n",
              "    <tr>\n",
              "      <th>1</th>\n",
              "      <td>Afghanistan</td>\n",
              "      <td>66.004734</td>\n",
              "      <td>33.835231</td>\n",
              "    </tr>\n",
              "    <tr>\n",
              "      <th>2</th>\n",
              "      <td>Angola</td>\n",
              "      <td>17.537368</td>\n",
              "      <td>-12.293361</td>\n",
              "    </tr>\n",
              "    <tr>\n",
              "      <th>3</th>\n",
              "      <td>Anguilla</td>\n",
              "      <td>-63.064989</td>\n",
              "      <td>18.223959</td>\n",
              "    </tr>\n",
              "    <tr>\n",
              "      <th>4</th>\n",
              "      <td>Albania</td>\n",
              "      <td>20.049834</td>\n",
              "      <td>41.142450</td>\n",
              "    </tr>\n",
              "    <tr>\n",
              "      <th>...</th>\n",
              "      <td>...</td>\n",
              "      <td>...</td>\n",
              "      <td>...</td>\n",
              "    </tr>\n",
              "    <tr>\n",
              "      <th>236</th>\n",
              "      <td>Samoa</td>\n",
              "      <td>-172.164851</td>\n",
              "      <td>-13.753243</td>\n",
              "    </tr>\n",
              "    <tr>\n",
              "      <th>237</th>\n",
              "      <td>Yemen</td>\n",
              "      <td>47.586762</td>\n",
              "      <td>15.909280</td>\n",
              "    </tr>\n",
              "    <tr>\n",
              "      <th>238</th>\n",
              "      <td>South Africa</td>\n",
              "      <td>25.083901</td>\n",
              "      <td>-29.000341</td>\n",
              "    </tr>\n",
              "    <tr>\n",
              "      <th>239</th>\n",
              "      <td>Zambia</td>\n",
              "      <td>27.774759</td>\n",
              "      <td>-13.458242</td>\n",
              "    </tr>\n",
              "    <tr>\n",
              "      <th>240</th>\n",
              "      <td>Zimbabwe</td>\n",
              "      <td>29.851441</td>\n",
              "      <td>-19.004204</td>\n",
              "    </tr>\n",
              "  </tbody>\n",
              "</table>\n",
              "<p>241 rows × 3 columns</p>\n",
              "</div>"
            ],
            "text/plain": [
              "             name   Longitude   Latitude\n",
              "0           Aruba  -69.982677  12.520880\n",
              "1     Afghanistan   66.004734  33.835231\n",
              "2          Angola   17.537368 -12.293361\n",
              "3        Anguilla  -63.064989  18.223959\n",
              "4         Albania   20.049834  41.142450\n",
              "..            ...         ...        ...\n",
              "236         Samoa -172.164851 -13.753243\n",
              "237         Yemen   47.586762  15.909280\n",
              "238  South Africa   25.083901 -29.000341\n",
              "239        Zambia   27.774759 -13.458242\n",
              "240      Zimbabwe   29.851441 -19.004204\n",
              "\n",
              "[241 rows x 3 columns]"
            ]
          },
          "metadata": {
            "tags": []
          },
          "execution_count": 81
        }
      ]
    },
    {
      "cell_type": "code",
      "metadata": {
        "id": "Nx_NpArhtMae",
        "colab_type": "code",
        "outputId": "a1e77a56-1ac8-4196-d7e4-8b2930e4ee0b",
        "colab": {
          "base_uri": "https://localhost:8080/",
          "height": 285
        }
      },
      "source": [
        "plt.scatter(data['Longitude'],data['Latitude'])\n",
        "plt.xlim(-150,150)\n",
        "plt.ylim(-90,90)\n",
        "plt.show"
      ],
      "execution_count": 0,
      "outputs": [
        {
          "output_type": "execute_result",
          "data": {
            "text/plain": [
              "<function matplotlib.pyplot.show>"
            ]
          },
          "metadata": {
            "tags": []
          },
          "execution_count": 82
        },
        {
          "output_type": "display_data",
          "data": {
            "image/png": "[encoded data removed]",
            "text/plain": [
              "<Figure size 432x288 with 1 Axes>"
            ]
          },
          "metadata": {
            "tags": []
          }
        }
      ]
    },
    {
      "cell_type": "code",
      "metadata": {
        "id": "jAE8P9RAt30z",
        "colab_type": "code",
        "outputId": "f9c9f3b8-36b1-41dd-960e-98aff10b0013",
        "colab": {
          "base_uri": "https://localhost:8080/",
          "height": 402
        }
      },
      "source": [
        "x = data.iloc[:,1:]\n",
        "x"
      ],
      "execution_count": 0,
      "outputs": [
        {
          "output_type": "execute_result",
          "data": {
            "text/html": [
              "<div>\n",
              "<style scoped>\n",
              "    .dataframe tbody tr th:only-of-type {\n",
              "        vertical-align: middle;\n",
              "    }\n",
              "\n",
              "    .dataframe tbody tr th {\n",
              "        vertical-align: top;\n",
              "    }\n",
              "\n",
              "    .dataframe thead th {\n",
              "        text-align: right;\n",
              "    }\n",
              "</style>\n",
              "<table border=\"1\" class=\"dataframe\">\n",
              "  <thead>\n",
              "    <tr style=\"text-align: right;\">\n",
              "      <th></th>\n",
              "      <th>Longitude</th>\n",
              "      <th>Latitude</th>\n",
              "    </tr>\n",
              "  </thead>\n",
              "  <tbody>\n",
              "    <tr>\n",
              "      <th>0</th>\n",
              "      <td>-69.982677</td>\n",
              "      <td>12.520880</td>\n",
              "    </tr>\n",
              "    <tr>\n",
              "      <th>1</th>\n",
              "      <td>66.004734</td>\n",
              "      <td>33.835231</td>\n",
              "    </tr>\n",
              "    <tr>\n",
              "      <th>2</th>\n",
              "      <td>17.537368</td>\n",
              "      <td>-12.293361</td>\n",
              "    </tr>\n",
              "    <tr>\n",
              "      <th>3</th>\n",
              "      <td>-63.064989</td>\n",
              "      <td>18.223959</td>\n",
              "    </tr>\n",
              "    <tr>\n",
              "      <th>4</th>\n",
              "      <td>20.049834</td>\n",
              "      <td>41.142450</td>\n",
              "    </tr>\n",
              "    <tr>\n",
              "      <th>...</th>\n",
              "      <td>...</td>\n",
              "      <td>...</td>\n",
              "    </tr>\n",
              "    <tr>\n",
              "      <th>236</th>\n",
              "      <td>-172.164851</td>\n",
              "      <td>-13.753243</td>\n",
              "    </tr>\n",
              "    <tr>\n",
              "      <th>237</th>\n",
              "      <td>47.586762</td>\n",
              "      <td>15.909280</td>\n",
              "    </tr>\n",
              "    <tr>\n",
              "      <th>238</th>\n",
              "      <td>25.083901</td>\n",
              "      <td>-29.000341</td>\n",
              "    </tr>\n",
              "    <tr>\n",
              "      <th>239</th>\n",
              "      <td>27.774759</td>\n",
              "      <td>-13.458242</td>\n",
              "    </tr>\n",
              "    <tr>\n",
              "      <th>240</th>\n",
              "      <td>29.851441</td>\n",
              "      <td>-19.004204</td>\n",
              "    </tr>\n",
              "  </tbody>\n",
              "</table>\n",
              "<p>241 rows × 2 columns</p>\n",
              "</div>"
            ],
            "text/plain": [
              "      Longitude   Latitude\n",
              "0    -69.982677  12.520880\n",
              "1     66.004734  33.835231\n",
              "2     17.537368 -12.293361\n",
              "3    -63.064989  18.223959\n",
              "4     20.049834  41.142450\n",
              "..          ...        ...\n",
              "236 -172.164851 -13.753243\n",
              "237   47.586762  15.909280\n",
              "238   25.083901 -29.000341\n",
              "239   27.774759 -13.458242\n",
              "240   29.851441 -19.004204\n",
              "\n",
              "[241 rows x 2 columns]"
            ]
          },
          "metadata": {
            "tags": []
          },
          "execution_count": 83
        }
      ]
    },
    {
      "cell_type": "code",
      "metadata": {
        "id": "8bwGhtW5uEaw",
        "colab_type": "code",
        "colab": {}
      },
      "source": [
        "kmeans = KMeans(5)"
      ],
      "execution_count": 0,
      "outputs": []
    },
    {
      "cell_type": "code",
      "metadata": {
        "id": "G-GW_bEquShE",
        "colab_type": "code",
        "outputId": "cfed2fac-384f-4dbc-9fa1-ae0f2b9310d9",
        "colab": {
          "base_uri": "https://localhost:8080/",
          "height": 67
        }
      },
      "source": [
        "kmeans.fit(x)"
      ],
      "execution_count": 0,
      "outputs": [
        {
          "output_type": "execute_result",
          "data": {
            "text/plain": [
              "KMeans(algorithm='auto', copy_x=True, init='k-means++', max_iter=300,\n",
              "       n_clusters=5, n_init=10, n_jobs=None, precompute_distances='auto',\n",
              "       random_state=None, tol=0.0001, verbose=0)"
            ]
          },
          "metadata": {
            "tags": []
          },
          "execution_count": 85
        }
      ]
    },
    {
      "cell_type": "code",
      "metadata": {
        "id": "NjDONMziuV8j",
        "colab_type": "code",
        "outputId": "95790509-a309-4981-ad7b-534d949a78b6",
        "colab": {
          "base_uri": "https://localhost:8080/",
          "height": 218
        }
      },
      "source": [
        "identified_clusters = kmeans.fit_predict(x)\n",
        "identified_clusters"
      ],
      "execution_count": 0,
      "outputs": [
        {
          "output_type": "execute_result",
          "data": {
            "text/plain": [
              "array([2, 3, 3, 2, 0, 0, 0, 3, 2, 3, 4, 3, 1, 3, 2, 1, 0, 3, 3, 0, 0, 0,\n",
              "       1, 0, 3, 2, 2, 0, 2, 0, 2, 2, 2, 2, 2, 1, 1, 3, 3, 0, 2, 1, 0, 3,\n",
              "       3, 3, 4, 2, 3, 0, 2, 2, 2, 2, 0, 0, 0, 0, 3, 2, 0, 2, 0, 2, 3, 3,\n",
              "       0, 0, 3, 0, 1, 2, 0, 0, 1, 3, 0, 3, 0, 0, 0, 0, 0, 3, 0, 2, 0, 2,\n",
              "       1, 2, 1, 3, 2, 0, 2, 0, 1, 0, 3, 1, 3, 0, 3, 3, 0, 3, 0, 2, 0, 3,\n",
              "       1, 3, 3, 3, 3, 1, 2, 2, 1, 0, 3, 1, 3, 0, 0, 2, 0, 3, 3, 0, 0, 0,\n",
              "       1, 2, 0, 0, 0, 3, 3, 2, 1, 0, 0, 0, 1, 0, 1, 1, 3, 0, 2, 3, 3, 1,\n",
              "       3, 1, 0, 1, 0, 2, 4, 0, 0, 3, 1, 1, 3, 3, 2, 4, 2, 1, 1, 1, 0, 2,\n",
              "       1, 0, 2, 3, 4, 3, 0, 1, 3, 0, 3, 3, 3, 0, 1, 2, 0, 1, 0, 2, 0, 3,\n",
              "       3, 2, 0, 3, 2, 0, 0, 0, 3, 2, 3, 3, 2, 3, 0, 1, 3, 3, 1, 4, 2, 0,\n",
              "       0, 1, 3, 3, 0, 2, 2, 3, 0, 2, 2, 2, 2, 1, 1, 4, 4, 3, 3, 3, 3],\n",
              "      dtype=int32)"
            ]
          },
          "metadata": {
            "tags": []
          },
          "execution_count": 86
        }
      ]
    },
    {
      "cell_type": "code",
      "metadata": {
        "id": "yCAJDVG_ubM9",
        "colab_type": "code",
        "outputId": "0f964b32-2ca7-43d2-98a9-517e62a9231d",
        "colab": {
          "base_uri": "https://localhost:8080/",
          "height": 402
        }
      },
      "source": [
        "data_with_clusters = data.copy()\n",
        "data_with_clusters['Cluster'] = identified_clusters\n",
        "data_with_clusters"
      ],
      "execution_count": 0,
      "outputs": [
        {
          "output_type": "execute_result",
          "data": {
            "text/html": [
              "<div>\n",
              "<style scoped>\n",
              "    .dataframe tbody tr th:only-of-type {\n",
              "        vertical-align: middle;\n",
              "    }\n",
              "\n",
              "    .dataframe tbody tr th {\n",
              "        vertical-align: top;\n",
              "    }\n",
              "\n",
              "    .dataframe thead th {\n",
              "        text-align: right;\n",
              "    }\n",
              "</style>\n",
              "<table border=\"1\" class=\"dataframe\">\n",
              "  <thead>\n",
              "    <tr style=\"text-align: right;\">\n",
              "      <th></th>\n",
              "      <th>name</th>\n",
              "      <th>Longitude</th>\n",
              "      <th>Latitude</th>\n",
              "      <th>Cluster</th>\n",
              "    </tr>\n",
              "  </thead>\n",
              "  <tbody>\n",
              "    <tr>\n",
              "      <th>0</th>\n",
              "      <td>Aruba</td>\n",
              "      <td>-69.982677</td>\n",
              "      <td>12.520880</td>\n",
              "      <td>2</td>\n",
              "    </tr>\n",
              "    <tr>\n",
              "      <th>1</th>\n",
              "      <td>Afghanistan</td>\n",
              "      <td>66.004734</td>\n",
              "      <td>33.835231</td>\n",
              "      <td>3</td>\n",
              "    </tr>\n",
              "    <tr>\n",
              "      <th>2</th>\n",
              "      <td>Angola</td>\n",
              "      <td>17.537368</td>\n",
              "      <td>-12.293361</td>\n",
              "      <td>3</td>\n",
              "    </tr>\n",
              "    <tr>\n",
              "      <th>3</th>\n",
              "      <td>Anguilla</td>\n",
              "      <td>-63.064989</td>\n",
              "      <td>18.223959</td>\n",
              "      <td>2</td>\n",
              "    </tr>\n",
              "    <tr>\n",
              "      <th>4</th>\n",
              "      <td>Albania</td>\n",
              "      <td>20.049834</td>\n",
              "      <td>41.142450</td>\n",
              "      <td>0</td>\n",
              "    </tr>\n",
              "    <tr>\n",
              "      <th>...</th>\n",
              "      <td>...</td>\n",
              "      <td>...</td>\n",
              "      <td>...</td>\n",
              "      <td>...</td>\n",
              "    </tr>\n",
              "    <tr>\n",
              "      <th>236</th>\n",
              "      <td>Samoa</td>\n",
              "      <td>-172.164851</td>\n",
              "      <td>-13.753243</td>\n",
              "      <td>4</td>\n",
              "    </tr>\n",
              "    <tr>\n",
              "      <th>237</th>\n",
              "      <td>Yemen</td>\n",
              "      <td>47.586762</td>\n",
              "      <td>15.909280</td>\n",
              "      <td>3</td>\n",
              "    </tr>\n",
              "    <tr>\n",
              "      <th>238</th>\n",
              "      <td>South Africa</td>\n",
              "      <td>25.083901</td>\n",
              "      <td>-29.000341</td>\n",
              "      <td>3</td>\n",
              "    </tr>\n",
              "    <tr>\n",
              "      <th>239</th>\n",
              "      <td>Zambia</td>\n",
              "      <td>27.774759</td>\n",
              "      <td>-13.458242</td>\n",
              "      <td>3</td>\n",
              "    </tr>\n",
              "    <tr>\n",
              "      <th>240</th>\n",
              "      <td>Zimbabwe</td>\n",
              "      <td>29.851441</td>\n",
              "      <td>-19.004204</td>\n",
              "      <td>3</td>\n",
              "    </tr>\n",
              "  </tbody>\n",
              "</table>\n",
              "<p>241 rows × 4 columns</p>\n",
              "</div>"
            ],
            "text/plain": [
              "             name   Longitude   Latitude  Cluster\n",
              "0           Aruba  -69.982677  12.520880        2\n",
              "1     Afghanistan   66.004734  33.835231        3\n",
              "2          Angola   17.537368 -12.293361        3\n",
              "3        Anguilla  -63.064989  18.223959        2\n",
              "4         Albania   20.049834  41.142450        0\n",
              "..            ...         ...        ...      ...\n",
              "236         Samoa -172.164851 -13.753243        4\n",
              "237         Yemen   47.586762  15.909280        3\n",
              "238  South Africa   25.083901 -29.000341        3\n",
              "239        Zambia   27.774759 -13.458242        3\n",
              "240      Zimbabwe   29.851441 -19.004204        3\n",
              "\n",
              "[241 rows x 4 columns]"
            ]
          },
          "metadata": {
            "tags": []
          },
          "execution_count": 87
        }
      ]
    },
    {
      "cell_type": "code",
      "metadata": {
        "id": "1L4Xsl08uobs",
        "colab_type": "code",
        "outputId": "0b6a92df-dbc4-4b4b-e093-946bf2b1f282",
        "colab": {
          "base_uri": "https://localhost:8080/",
          "height": 268
        }
      },
      "source": [
        "plt.scatter(data_with_clusters['Longitude'],data_with_clusters['Latitude'],c=data_with_clusters['Cluster'],cmap='rainbow')\n",
        "plt.xlim(-150,150)\n",
        "plt.ylim(-90,90)\n",
        "plt.show()"
      ],
      "execution_count": 0,
      "outputs": [
        {
          "output_type": "display_data",
          "data": {
            "image/png": "[encoded data removed]",
            "text/plain": [
              "<Figure size 432x288 with 1 Axes>"
            ]
          },
          "metadata": {
            "tags": []
          }
        }
      ]
    }
  ]
}